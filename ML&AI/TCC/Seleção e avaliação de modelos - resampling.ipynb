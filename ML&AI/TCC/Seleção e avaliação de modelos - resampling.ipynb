{
 "cells": [
  {
   "cell_type": "code",
   "execution_count": 5,
   "id": "302f1b04-204d-442f-8a53-934e031a4aff",
   "metadata": {},
   "outputs": [],
   "source": [
    "import numpy as np\n",
    "from imblearn.pipeline import Pipeline\n",
    "from imblearn.over_sampling import SMOTE\n",
    "from sklearn.model_selection import KFold, GridSearchCV\n",
    "from sklearn.datasets import load_breast_cancer\n",
    "from sklearn.preprocessing import StandardScaler\n",
    "from sklearn.svm import SVC\n",
    "from sklearn.metrics import classification_report"
   ]
  },
  {
   "cell_type": "code",
   "execution_count": 6,
   "id": "d23b530b-5847-4f64-8e1a-92686ac59d73",
   "metadata": {},
   "outputs": [],
   "source": [
    "data = load_breast_cancer()\n",
    "X, y = data['data'], data['target']\n",
    "feature_names, target_names = data['feature_names'], data['target_names']\n",
    "\n",
    "pipeline = Pipeline([('resampling', SMOTE(random_state=42)), # Substituir o SDV aqui, usando um wrapper para implementar fit_resample\n",
    "                     ('scaler', StandardScaler()),\n",
    "                     ('svc', SVC(kernel='rbf', probability=True))])\n",
    "\n",
    "grid_search_svc = {'svc__C': 2 ** np.arange(-5.0, 16.0, 2),\n",
    "                   'svc__gamma': 2 ** np.arange(-15.0, 4.0, 2)}"
   ]
  },
  {
   "cell_type": "code",
   "execution_count": 7,
   "id": "87a30ab2-682f-450c-9593-b921b2916d0a",
   "metadata": {},
   "outputs": [
    {
     "name": "stdout",
     "output_type": "stream",
     "text": [
      "Training fold 1...\n",
      "Training fold 2...\n",
      "Training fold 3...\n",
      "Training fold 4...\n",
      "Training fold 5...\n"
     ]
    }
   ],
   "source": [
    "np.random.seed(42)\n",
    "\n",
    "num_outer_loop_folds = 5\n",
    "num_inner_loop_folds = 5\n",
    "\n",
    "folds = KFold(n_splits=num_outer_loop_folds, shuffle=True).split(X, y)\n",
    "results = []\n",
    "for i, (train_index, test_index) in enumerate(folds):\n",
    "    print(f\"Training fold {i+1}...\")\n",
    "\n",
    "    X_train, y_train = X[train_index,:], y[train_index]\n",
    "    X_test, y_test = X[test_index,:], y[test_index]\n",
    "    \n",
    "    model = GridSearchCV(pipeline, grid_search_svc, cv=num_inner_loop_folds, n_jobs=-1)\n",
    "    model.fit(X_train, y_train)\n",
    "\n",
    "    pred_test = model.predict(X_test)\n",
    "    results.append(classification_report(y_test, pred_test, output_dict=True))"
   ]
  },
  {
   "cell_type": "code",
   "execution_count": 8,
   "id": "f7457525-abb2-45c7-99d4-6810388eb146",
   "metadata": {},
   "outputs": [
    {
     "data": {
      "text/plain": [
       "[{'0': {'precision': 1.0,\n",
       "   'recall': 0.9534883720930233,\n",
       "   'f1-score': 0.9761904761904763,\n",
       "   'support': 43},\n",
       "  '1': {'precision': 0.9726027397260274,\n",
       "   'recall': 1.0,\n",
       "   'f1-score': 0.9861111111111112,\n",
       "   'support': 71},\n",
       "  'accuracy': 0.9824561403508771,\n",
       "  'macro avg': {'precision': 0.9863013698630136,\n",
       "   'recall': 0.9767441860465116,\n",
       "   'f1-score': 0.9811507936507937,\n",
       "   'support': 114},\n",
       "  'weighted avg': {'precision': 0.9829367940398942,\n",
       "   'recall': 0.9824561403508771,\n",
       "   'f1-score': 0.9823691172375383,\n",
       "   'support': 114}},\n",
       " {'0': {'precision': 0.9487179487179487,\n",
       "   'recall': 1.0,\n",
       "   'f1-score': 0.9736842105263158,\n",
       "   'support': 37},\n",
       "  '1': {'precision': 1.0,\n",
       "   'recall': 0.974025974025974,\n",
       "   'f1-score': 0.9868421052631579,\n",
       "   'support': 77},\n",
       "  'accuracy': 0.9824561403508771,\n",
       "  'macro avg': {'precision': 0.9743589743589743,\n",
       "   'recall': 0.987012987012987,\n",
       "   'f1-score': 0.9802631578947368,\n",
       "   'support': 114},\n",
       "  'weighted avg': {'precision': 0.9833558254610886,\n",
       "   'recall': 0.9824561403508771,\n",
       "   'f1-score': 0.9825715604801477,\n",
       "   'support': 114}},\n",
       " {'0': {'precision': 0.9534883720930233,\n",
       "   'recall': 0.9534883720930233,\n",
       "   'f1-score': 0.9534883720930233,\n",
       "   'support': 43},\n",
       "  '1': {'precision': 0.971830985915493,\n",
       "   'recall': 0.971830985915493,\n",
       "   'f1-score': 0.971830985915493,\n",
       "   'support': 71},\n",
       "  'accuracy': 0.9649122807017544,\n",
       "  'macro avg': {'precision': 0.9626596790042581,\n",
       "   'recall': 0.9626596790042581,\n",
       "   'f1-score': 0.9626596790042581,\n",
       "   'support': 114},\n",
       "  'weighted avg': {'precision': 0.9649122807017544,\n",
       "   'recall': 0.9649122807017544,\n",
       "   'f1-score': 0.9649122807017544,\n",
       "   'support': 114}},\n",
       " {'0': {'precision': 1.0, 'recall': 1.0, 'f1-score': 1.0, 'support': 43},\n",
       "  '1': {'precision': 1.0, 'recall': 1.0, 'f1-score': 1.0, 'support': 71},\n",
       "  'accuracy': 1.0,\n",
       "  'macro avg': {'precision': 1.0,\n",
       "   'recall': 1.0,\n",
       "   'f1-score': 1.0,\n",
       "   'support': 114},\n",
       "  'weighted avg': {'precision': 1.0,\n",
       "   'recall': 1.0,\n",
       "   'f1-score': 1.0,\n",
       "   'support': 114}},\n",
       " {'0': {'precision': 0.9777777777777777,\n",
       "   'recall': 0.9565217391304348,\n",
       "   'f1-score': 0.967032967032967,\n",
       "   'support': 46},\n",
       "  '1': {'precision': 0.9705882352941176,\n",
       "   'recall': 0.9850746268656716,\n",
       "   'f1-score': 0.9777777777777777,\n",
       "   'support': 67},\n",
       "  'accuracy': 0.9734513274336283,\n",
       "  'macro avg': {'precision': 0.9741830065359477,\n",
       "   'recall': 0.9707981829980532,\n",
       "   'f1-score': 0.9724053724053724,\n",
       "   'support': 113},\n",
       "  'weighted avg': {'precision': 0.9735149517033952,\n",
       "   'recall': 0.9734513274336283,\n",
       "   'f1-score': 0.973403784023253,\n",
       "   'support': 113}}]"
      ]
     },
     "execution_count": 8,
     "metadata": {},
     "output_type": "execute_result"
    }
   ],
   "source": [
    "results"
   ]
  },
  {
   "cell_type": "code",
   "execution_count": 4,
   "id": "03567f3b-4c7c-41db-b849-29649f1b116f",
   "metadata": {},
   "outputs": [
    {
     "name": "stdout",
     "output_type": "stream",
     "text": [
      "Accuracy: 98.07% +- 1.17%\n",
      "F1-score: 97.93% +- 1.23%\n"
     ]
    }
   ],
   "source": [
    "acc_mean = np.mean([ result['accuracy'] for result in results ])\n",
    "acc_std = np.std([ result['accuracy'] for result in results ])\n",
    "f1_mean = np.mean([ result['macro avg']['f1-score'] for result in results ])\n",
    "f1_std = np.std([ result['macro avg']['f1-score'] for result in results ])\n",
    "\n",
    "print(f\"Accuracy: {acc_mean:.2%} +- {acc_std:.2%}\")\n",
    "print(f\"F1-score: {f1_mean:.2%} +- {f1_std:.2%}\")"
   ]
  }
 ],
 "metadata": {
  "kernelspec": {
   "display_name": "Python 3 (ipykernel)",
   "language": "python",
   "name": "python3"
  },
  "language_info": {
   "codemirror_mode": {
    "name": "ipython",
    "version": 3
   },
   "file_extension": ".py",
   "mimetype": "text/x-python",
   "name": "python",
   "nbconvert_exporter": "python",
   "pygments_lexer": "ipython3",
   "version": "3.10.9"
  }
 },
 "nbformat": 4,
 "nbformat_minor": 5
}
