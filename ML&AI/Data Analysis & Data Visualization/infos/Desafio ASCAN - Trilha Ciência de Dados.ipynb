{
 "cells": [
  {
   "cell_type": "markdown",
   "id": "da86d790",
   "metadata": {},
   "source": [
    "# Introdução ao desafio\n",
    "Este desafio foi desenvolvido para a conclusão da trilha Data Science.\n",
    "Caso tenha alguma dúvida sobre o desafio, pode entrar em contato com a equipe ASCAN;\n",
    "\n",
    "#### Recomendações para o desafio:\n",
    "- Toda informação que possa ser representada em gráficos deve ser representada, escolher o gráfico adequado para o dado em questão faz parte do desafio;\n",
    "- Entenda do que o dado se trata, pesquise, teste, pense!;\n",
    "- Seja curioso, passe por cada coluna olhando elas isoladamente e também procurando se há alguma relação com as demais colunas.\n",
    "- Utilize boas práticas de programação em Python e em notebooks, segue um [link](https://www.slideshare.net/joelpl/boas-prticas-de-desenvolvimento-para-jupyter-notebooks) para mais orientações;\n",
    "- Todo gráfico deve ter um título e está em um tamanho adequado, lembre-se das boas políticas de visualização.\n",
    "- Faça métodos (functions) para reaproveitar código;\n",
    "- Documente o seu código, lembre-se que outros pessoas vão avaliá-lo;\n",
    "- **Perguntas guias** ou **Perguntas chaves** devem ser respondidas diretamente por você durante a elaboração do notebook, sempre com dados reforçando seus argumentos.\n",
    "- E o mais importante, divirta-se!\n",
    "\n",
    "\n",
    "\n",
    "# Dados\n",
    "\n",
    "Para este desafio vamos utilizar um dos dados mais utilizados na comunidade de Ciência de Dados, o tão famoso TITANIC! Esta versão foi modificada para este desafio com o intuito de facilitar e direcionar melhor os desafiantes.\n",
    "Recomendo que antes de iniciar você se familiarize com o contexto do dataset, o que basicamente foi um navio famoso no início do século 20 que naufragou. \n",
    "\n",
    "Vou deixar dois links sobre o tema abaixo:\n",
    "- [Youtube](https://www.youtube.com/watch?v=epc1KZMx2vs)\n",
    "- [Wikipedia](https://pt.wikipedia.org/wiki/RMS_Titanic)\n",
    "\n",
    "Metadata:\n",
    " \n",
    "| **Variável**         | **Descrição**           |**Valores Chaves**          |\n",
    "| ---------------- | ------------------- | ---------------------- |\n",
    "| sobreviveu       | Se sobreviveu ou não ao acidente.            |Não sobreviveu = False, Sobreviveu = Yes |\n",
    "| classe_bilhete   | Classe do bilhete comprado.      |1=Primeira Classe, 2=Segunda Classe, 3=Terceira Classe |\n",
    "| genero           | Gênero do passageiro.                 |M=Masculino, F=Feminino       |\n",
    "| idade            | Idade em anos e meses.        |Min=0.42 ~ Max=80.0       |\n",
    "| irmaos_conjuges_abordo    | Número de irmãos/cônjuges a bordo do Titanic.  |Min=0 ~ Max=6       |\n",
    "| pais_filhos_abordo      | Número de pais/filhos a bordo do Titanic.   |Min=0 ~ Max=8       |\n",
    "| numero_bilhete   | Número do Bilhete.     |Combinação de texto e número.       |\n",
    "| preco_bilhete    | Preço pago no Bilhete.    |Min=0.00 ~ Max=512.32       |\n",
    "| cabine_numero    | Número da Cabine do Passageiro.        |Combinação de texto e número.       |\n",
    "| local_embarque   | Cidade que o passageiro embarcou. |Valores válidos=['Southampton', 'Cherbourg', 'Queenstown'] |\n",
    " \n",
    "[Referência do dado](https://www.kaggle.com/competitions/titanic/data?select=train.csv)"
   ]
  },
  {
   "cell_type": "markdown",
   "id": "ee98bd7e",
   "metadata": {},
   "source": [
    "**ATENÇÃO: Você pode usar outras versões dos pacotes como também outras ferramentas de visualização de dados no lugar do `seaborn`, como exemplo o `plotly`!!!**"
   ]
  },
  {
   "cell_type": "code",
   "execution_count": null,
   "id": "5005be66",
   "metadata": {},
   "outputs": [],
   "source": [
    "!pip install pandas==1.1.4 seaborn==0.9.0 -q"
   ]
  },
  {
   "cell_type": "code",
   "execution_count": null,
   "id": "5cc5bbdb",
   "metadata": {},
   "outputs": [],
   "source": [
    "import pandas as pd\n",
    "import seaborn as sns\n",
    "\n",
    "df = pd.read_csv(\"titanic.csv\").set_index(\"id_passageiro\")\n",
    "df.head()"
   ]
  },
  {
   "cell_type": "markdown",
   "id": "568d67a8",
   "metadata": {},
   "source": [
    "# EDA \n",
    "Aqui vamos iniciar a parte de exploratório, as categorias do DataFrame já foram previamente identificadas, mas nada impede que você faça transformações para estas. Fique livre para identificar novos pontos e trazer para a sua defesa no futuro.\n",
    "\n",
    "Novamente: **Perguntas guias** ou **Perguntas chaves** devem ser respondidas diretamente por você durante a elaboração do notebook, sempre com dados reforçando seus argumentos.\n",
    "\n",
    "\n"
   ]
  },
  {
   "cell_type": "code",
   "execution_count": null,
   "id": "2b4294a6",
   "metadata": {},
   "outputs": [],
   "source": [
    "numerica = [\n",
    "    \"idade\",\n",
    "    \"preco_bilhete\",\n",
    "    \"irmaos_conjuges_abordo\",\n",
    "    \"pais_filhos_abordo\",\n",
    "    \"preco_bilhete\",\n",
    "]\n",
    "\n",
    "categorica = [\n",
    "    \"classe_bilhete\",\n",
    "    \"genero\",\n",
    "    \"numero_bilhete\",\n",
    "    \"cabine_numero\",\n",
    "    \"local_embarque\",\n",
    "    \"sobreviveu\",\n",
    "]"
   ]
  },
  {
   "cell_type": "markdown",
   "id": "e77f5e6c",
   "metadata": {},
   "source": [
    "##  Visualize e entenda todas as colunas numéricas.\n",
    "#### Perguntas guias para as categorias númerias:\n",
    "- Existem dados faltantes no seu conjunto?\n",
    "- Quais as suas distribuições?\n",
    "- Temos outliers neste subconjunto? (utilize a definição numérica de outliers apresentado na trilha para fazer essa verificação)\n",
    "- Existe alguma correlação entre essas variáveis numéricas? (não precisa olhar para outras categorias no momento)\n",
    "\n",
    "\n"
   ]
  },
  {
   "cell_type": "code",
   "execution_count": null,
   "id": "38bd1c5d",
   "metadata": {},
   "outputs": [],
   "source": [
    "## Seu código"
   ]
  },
  {
   "cell_type": "code",
   "execution_count": null,
   "id": "415deb31",
   "metadata": {},
   "outputs": [],
   "source": []
  },
  {
   "cell_type": "code",
   "execution_count": null,
   "id": "fb172aab",
   "metadata": {},
   "outputs": [],
   "source": []
  },
  {
   "cell_type": "markdown",
   "id": "0d7c2f4b",
   "metadata": {},
   "source": [
    "##  Visualize e entenda todas as colunas categóricas.\n",
    "#### Perguntas guias para as categorias categóricas:\n",
    "- Existem dados faltantes no seu conjunto? \n",
    "- Conseguimos extrair alguma informação nas colunas `numero_bilhete` e `cabine_numero`? ([Dica](https://pt.wikipedia.org/wiki/Instala%C3%A7%C3%B5es_da_primeira_classe_do_RMS_Titanic))\n",
    "- Existe alguma casualidade ou correlação entre as categorias?\n",
    "- Existe alguma relação entre a `classe_bilhete` e o `cabine_numero`?\n",
    "\n",
    "\n"
   ]
  },
  {
   "cell_type": "code",
   "execution_count": null,
   "id": "301769d7",
   "metadata": {},
   "outputs": [],
   "source": [
    "## Seu código"
   ]
  },
  {
   "cell_type": "code",
   "execution_count": null,
   "id": "8382eafc",
   "metadata": {},
   "outputs": [],
   "source": []
  },
  {
   "cell_type": "code",
   "execution_count": null,
   "id": "2513dea6",
   "metadata": {},
   "outputs": [],
   "source": []
  },
  {
   "cell_type": "markdown",
   "id": "ed1301b9",
   "metadata": {},
   "source": [
    "#### Perguntas chave para as categorias categóricas:\n",
    "- Há alguma influência de pertencer a algum grupo de alguma cabine na sua sobrevivência?\n",
    "- Há algum padrão no `numero_bilhete`?\n",
    "- Há algum padrão na `cabine_numero`?\n",
    "\n",
    "\n"
   ]
  },
  {
   "cell_type": "code",
   "execution_count": null,
   "id": "65dcc3b1",
   "metadata": {},
   "outputs": [],
   "source": [
    "### Seu código"
   ]
  },
  {
   "cell_type": "code",
   "execution_count": null,
   "id": "3b82e7b1",
   "metadata": {},
   "outputs": [],
   "source": []
  },
  {
   "cell_type": "code",
   "execution_count": null,
   "id": "b1efb670",
   "metadata": {},
   "outputs": [],
   "source": []
  },
  {
   "cell_type": "markdown",
   "id": "88c76877",
   "metadata": {},
   "source": [
    "# Perguntas do Desafio:"
   ]
  },
  {
   "cell_type": "markdown",
   "id": "2b125633",
   "metadata": {},
   "source": [
    "### Qual o fator que foi mais importante e menos importante para determinar a sobrevivência para esta população?\n",
    "\n"
   ]
  },
  {
   "cell_type": "code",
   "execution_count": null,
   "id": "22072800",
   "metadata": {},
   "outputs": [],
   "source": [
    "### Seu código"
   ]
  },
  {
   "cell_type": "markdown",
   "id": "27192ea5",
   "metadata": {},
   "source": [
    "Sua resposta: ....."
   ]
  },
  {
   "cell_type": "markdown",
   "id": "a551f815",
   "metadata": {},
   "source": [
    "### Você pode dizer que houve alguma influência do poder aquisitivo na sobrevivência do acidente? \n",
    "\n"
   ]
  },
  {
   "cell_type": "code",
   "execution_count": null,
   "id": "aae33906",
   "metadata": {},
   "outputs": [],
   "source": [
    "### Seu código"
   ]
  },
  {
   "cell_type": "markdown",
   "id": "fc0a193f",
   "metadata": {},
   "source": [
    "Sua resposta: ....."
   ]
  },
  {
   "cell_type": "markdown",
   "id": "b8b48546",
   "metadata": {},
   "source": [
    "### O protocolo marítimo da época do Titanic tinha foco em dar prioridade a crianças e mulheres, analisando os dados podemos dizer se este protocolo foi seguido? \n",
    "\n"
   ]
  },
  {
   "cell_type": "code",
   "execution_count": null,
   "id": "f055531f",
   "metadata": {},
   "outputs": [],
   "source": [
    "### Seu código"
   ]
  },
  {
   "cell_type": "markdown",
   "id": "3ed7a5d0",
   "metadata": {},
   "source": [
    "Sua resposta: ....."
   ]
  },
  {
   "cell_type": "markdown",
   "id": "9934559c",
   "metadata": {},
   "source": [
    "### Ter uma família no barco influenciou negativamente ou positivamente para a sua sobrevivência?\n",
    "\n"
   ]
  },
  {
   "cell_type": "code",
   "execution_count": null,
   "id": "1d107ef7",
   "metadata": {},
   "outputs": [],
   "source": [
    "### Seu código"
   ]
  },
  {
   "cell_type": "markdown",
   "id": "9427703d",
   "metadata": {},
   "source": [
    "Sua resposta: ....."
   ]
  },
  {
   "cell_type": "markdown",
   "id": "e904b88a",
   "metadata": {},
   "source": [
    "### Qual o perfil de quem não sobreviveu? E qual é o perfil de quem sobreviveu?\n",
    "- Entenda Perfil como: Gênero, Idade e Classe Social. Caso você identifique alguma nova característica pode adicioná-la ao perfil.\n",
    "\n",
    "\n"
   ]
  },
  {
   "cell_type": "code",
   "execution_count": null,
   "id": "fc2ed148",
   "metadata": {},
   "outputs": [],
   "source": [
    "### Seu código"
   ]
  },
  {
   "cell_type": "markdown",
   "id": "5993efa2",
   "metadata": {},
   "source": [
    "Sua resposta: ....."
   ]
  },
  {
   "cell_type": "markdown",
   "id": "d55ca294",
   "metadata": {},
   "source": [
    "Se você sobreviveu até aqui, meus parabéns! =D"
   ]
  }
 ],
 "metadata": {
  "kernelspec": {
   "display_name": "Python 3 (ipykernel)",
   "language": "python",
   "name": "python3"
  },
  "language_info": {
   "codemirror_mode": {
    "name": "ipython",
    "version": 3
   },
   "file_extension": ".py",
   "mimetype": "text/x-python",
   "name": "python",
   "nbconvert_exporter": "python",
   "pygments_lexer": "ipython3",
   "version": "3.9.7"
  }
 },
 "nbformat": 4,
 "nbformat_minor": 5
}
