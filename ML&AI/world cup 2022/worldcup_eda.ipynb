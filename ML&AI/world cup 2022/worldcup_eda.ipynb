{
 "cells": [
  {
   "cell_type": "code",
   "execution_count": 21,
   "id": "8dd10d43-2766-442d-ad46-87a9a539cfb5",
   "metadata": {},
   "outputs": [
    {
     "name": "stdout",
     "output_type": "stream",
     "text": [
      "The lab_black extension is already loaded. To reload it, use:\n",
      "  %reload_ext lab_black\n"
     ]
    }
   ],
   "source": [
    "%load_ext lab_black\n",
    "import pandas as pd\n",
    "from IPython.display import JSON\n",
    "import warnings\n",
    "\n",
    "warnings.filterwarnings(\"ignore\")"
   ]
  },
  {
   "cell_type": "code",
   "execution_count": 57,
   "id": "f0c83271-a1aa-4587-98a4-44d98390a24b",
   "metadata": {},
   "outputs": [
    {
     "data": {
      "text/plain": [
       "(64, 25)"
      ]
     },
     "execution_count": 57,
     "metadata": {},
     "output_type": "execute_result"
    }
   ],
   "source": [
    "df = pd.read_csv(\"world_cup_2022_catar.csv\")\n",
    "df.shape"
   ]
  },
  {
   "cell_type": "code",
   "execution_count": 7,
   "id": "ccf40184-bd64-45ec-a7cc-961df10739cf",
   "metadata": {},
   "outputs": [
    {
     "data": {
      "text/html": [
       "<div>\n",
       "<style scoped>\n",
       "    .dataframe tbody tr th:only-of-type {\n",
       "        vertical-align: middle;\n",
       "    }\n",
       "\n",
       "    .dataframe tbody tr th {\n",
       "        vertical-align: top;\n",
       "    }\n",
       "\n",
       "    .dataframe thead th {\n",
       "        text-align: right;\n",
       "    }\n",
       "</style>\n",
       "<table border=\"1\" class=\"dataframe\">\n",
       "  <thead>\n",
       "    <tr style=\"text-align: right;\">\n",
       "      <th></th>\n",
       "      <th>stage</th>\n",
       "      <th>date</th>\n",
       "      <th>pens</th>\n",
       "      <th>pens_home_score</th>\n",
       "      <th>pens_away_score</th>\n",
       "      <th>team_name_home</th>\n",
       "      <th>team_name_away</th>\n",
       "      <th>team_home_score</th>\n",
       "      <th>team_away_score</th>\n",
       "      <th>possession_home</th>\n",
       "      <th>...</th>\n",
       "      <th>duels_won_home</th>\n",
       "      <th>duels_won_away</th>\n",
       "      <th>prediction_team_home_win</th>\n",
       "      <th>prediction_draw</th>\n",
       "      <th>prediction_team_away_win</th>\n",
       "      <th>prediction_quantity</th>\n",
       "      <th>location</th>\n",
       "      <th>events_list</th>\n",
       "      <th>lineup_home</th>\n",
       "      <th>lineup_away</th>\n",
       "    </tr>\n",
       "  </thead>\n",
       "  <tbody>\n",
       "    <tr>\n",
       "      <th>0</th>\n",
       "      <td>Final</td>\n",
       "      <td>18/12/2022</td>\n",
       "      <td>True</td>\n",
       "      <td>4</td>\n",
       "      <td>2</td>\n",
       "      <td>Argentina</td>\n",
       "      <td>France</td>\n",
       "      <td>3</td>\n",
       "      <td>3</td>\n",
       "      <td>54%</td>\n",
       "      <td>...</td>\n",
       "      <td>40%</td>\n",
       "      <td>60%</td>\n",
       "      <td>64%</td>\n",
       "      <td>3%</td>\n",
       "      <td>33%</td>\n",
       "      <td>1002332</td>\n",
       "      <td>Lusail Iconic Stadium</td>\n",
       "      <td>[{'event_team': 'home', 'event_time': \" 23' \",...</td>\n",
       "      <td>[{'player_name': ' Di María ', 'player_number'...</td>\n",
       "      <td>[{'player_name': ' Giroud ', 'player_number': ...</td>\n",
       "    </tr>\n",
       "  </tbody>\n",
       "</table>\n",
       "<p>1 rows × 25 columns</p>\n",
       "</div>"
      ],
      "text/plain": [
       "   stage        date  pens pens_home_score pens_away_score team_name_home  \\\n",
       "0  Final  18/12/2022  True               4               2      Argentina   \n",
       "\n",
       "  team_name_away  team_home_score  team_away_score possession_home  ...  \\\n",
       "0         France                3                3             54%  ...   \n",
       "\n",
       "  duels_won_home  duels_won_away  prediction_team_home_win  prediction_draw  \\\n",
       "0            40%            60%                       64%               3%    \n",
       "\n",
       "   prediction_team_away_win prediction_quantity               location  \\\n",
       "0                      33%              1002332  Lusail Iconic Stadium   \n",
       "\n",
       "                                         events_list  \\\n",
       "0  [{'event_team': 'home', 'event_time': \" 23' \",...   \n",
       "\n",
       "                                         lineup_home  \\\n",
       "0  [{'player_name': ' Di María ', 'player_number'...   \n",
       "\n",
       "                                         lineup_away  \n",
       "0  [{'player_name': ' Giroud ', 'player_number': ...  \n",
       "\n",
       "[1 rows x 25 columns]"
      ]
     },
     "execution_count": 7,
     "metadata": {},
     "output_type": "execute_result"
    }
   ],
   "source": [
    "df.head(1)"
   ]
  },
  {
   "cell_type": "code",
   "execution_count": 4,
   "id": "a85c305e-e1e7-4afd-9440-154bcb22194b",
   "metadata": {},
   "outputs": [
    {
     "name": "stdout",
     "output_type": "stream",
     "text": [
      "<class 'pandas.core.frame.DataFrame'>\n",
      "RangeIndex: 64 entries, 0 to 63\n",
      "Data columns (total 25 columns):\n",
      " #   Column                    Non-Null Count  Dtype \n",
      "---  ------                    --------------  ----- \n",
      " 0   stage                     64 non-null     object\n",
      " 1   date                      64 non-null     object\n",
      " 2   pens                      64 non-null     bool  \n",
      " 3   pens_home_score           64 non-null     object\n",
      " 4   pens_away_score           64 non-null     object\n",
      " 5   team_name_home            64 non-null     object\n",
      " 6   team_name_away            64 non-null     object\n",
      " 7   team_home_score           64 non-null     int64 \n",
      " 8   team_away_score           64 non-null     int64 \n",
      " 9   possession_home           64 non-null     object\n",
      " 10  possession_away           64 non-null     object\n",
      " 11  total_shots_home          64 non-null     int64 \n",
      " 12  total_shots_away          64 non-null     int64 \n",
      " 13  shots_on_target_home      64 non-null     int64 \n",
      " 14  shots_on_target_away      64 non-null     int64 \n",
      " 15  duels_won_home            64 non-null     object\n",
      " 16  duels_won_away            64 non-null     object\n",
      " 17  prediction_team_home_win  64 non-null     object\n",
      " 18  prediction_draw           64 non-null     object\n",
      " 19  prediction_team_away_win  64 non-null     object\n",
      " 20  prediction_quantity       64 non-null     int64 \n",
      " 21  location                  64 non-null     object\n",
      " 22  events_list               64 non-null     object\n",
      " 23  lineup_home               64 non-null     object\n",
      " 24  lineup_away               64 non-null     object\n",
      "dtypes: bool(1), int64(7), object(17)\n",
      "memory usage: 12.2+ KB\n"
     ]
    }
   ],
   "source": [
    "df.info()"
   ]
  },
  {
   "cell_type": "code",
   "execution_count": 5,
   "id": "a25c594a-c1c4-417a-9023-cad999ebcefa",
   "metadata": {},
   "outputs": [
    {
     "data": {
      "text/html": [
       "<div>\n",
       "<style scoped>\n",
       "    .dataframe tbody tr th:only-of-type {\n",
       "        vertical-align: middle;\n",
       "    }\n",
       "\n",
       "    .dataframe tbody tr th {\n",
       "        vertical-align: top;\n",
       "    }\n",
       "\n",
       "    .dataframe thead th {\n",
       "        text-align: right;\n",
       "    }\n",
       "</style>\n",
       "<table border=\"1\" class=\"dataframe\">\n",
       "  <thead>\n",
       "    <tr style=\"text-align: right;\">\n",
       "      <th></th>\n",
       "      <th>team_home_score</th>\n",
       "      <th>team_away_score</th>\n",
       "      <th>total_shots_home</th>\n",
       "      <th>total_shots_away</th>\n",
       "      <th>shots_on_target_home</th>\n",
       "      <th>shots_on_target_away</th>\n",
       "      <th>prediction_quantity</th>\n",
       "    </tr>\n",
       "  </thead>\n",
       "  <tbody>\n",
       "    <tr>\n",
       "      <th>count</th>\n",
       "      <td>64.000000</td>\n",
       "      <td>64.000000</td>\n",
       "      <td>64.000000</td>\n",
       "      <td>64.000000</td>\n",
       "      <td>64.000000</td>\n",
       "      <td>64.000000</td>\n",
       "      <td>6.400000e+01</td>\n",
       "    </tr>\n",
       "    <tr>\n",
       "      <th>mean</th>\n",
       "      <td>1.578125</td>\n",
       "      <td>1.109375</td>\n",
       "      <td>11.296875</td>\n",
       "      <td>11.453125</td>\n",
       "      <td>4.312500</td>\n",
       "      <td>3.765625</td>\n",
       "      <td>4.036118e+05</td>\n",
       "    </tr>\n",
       "    <tr>\n",
       "      <th>std</th>\n",
       "      <td>1.551289</td>\n",
       "      <td>1.055856</td>\n",
       "      <td>5.088673</td>\n",
       "      <td>5.866043</td>\n",
       "      <td>2.617857</td>\n",
       "      <td>2.729860</td>\n",
       "      <td>2.001993e+05</td>\n",
       "    </tr>\n",
       "    <tr>\n",
       "      <th>min</th>\n",
       "      <td>0.000000</td>\n",
       "      <td>0.000000</td>\n",
       "      <td>2.000000</td>\n",
       "      <td>0.000000</td>\n",
       "      <td>0.000000</td>\n",
       "      <td>0.000000</td>\n",
       "      <td>1.304210e+05</td>\n",
       "    </tr>\n",
       "    <tr>\n",
       "      <th>25%</th>\n",
       "      <td>0.000000</td>\n",
       "      <td>0.000000</td>\n",
       "      <td>8.000000</td>\n",
       "      <td>7.750000</td>\n",
       "      <td>3.000000</td>\n",
       "      <td>2.000000</td>\n",
       "      <td>2.321788e+05</td>\n",
       "    </tr>\n",
       "    <tr>\n",
       "      <th>50%</th>\n",
       "      <td>1.000000</td>\n",
       "      <td>1.000000</td>\n",
       "      <td>10.500000</td>\n",
       "      <td>10.500000</td>\n",
       "      <td>4.000000</td>\n",
       "      <td>3.000000</td>\n",
       "      <td>3.639255e+05</td>\n",
       "    </tr>\n",
       "    <tr>\n",
       "      <th>75%</th>\n",
       "      <td>2.000000</td>\n",
       "      <td>2.000000</td>\n",
       "      <td>14.000000</td>\n",
       "      <td>14.000000</td>\n",
       "      <td>6.000000</td>\n",
       "      <td>5.000000</td>\n",
       "      <td>5.351200e+05</td>\n",
       "    </tr>\n",
       "    <tr>\n",
       "      <th>max</th>\n",
       "      <td>7.000000</td>\n",
       "      <td>4.000000</td>\n",
       "      <td>26.000000</td>\n",
       "      <td>32.000000</td>\n",
       "      <td>10.000000</td>\n",
       "      <td>12.000000</td>\n",
       "      <td>1.002332e+06</td>\n",
       "    </tr>\n",
       "  </tbody>\n",
       "</table>\n",
       "</div>"
      ],
      "text/plain": [
       "       team_home_score  team_away_score  total_shots_home  total_shots_away  \\\n",
       "count        64.000000        64.000000         64.000000         64.000000   \n",
       "mean          1.578125         1.109375         11.296875         11.453125   \n",
       "std           1.551289         1.055856          5.088673          5.866043   \n",
       "min           0.000000         0.000000          2.000000          0.000000   \n",
       "25%           0.000000         0.000000          8.000000          7.750000   \n",
       "50%           1.000000         1.000000         10.500000         10.500000   \n",
       "75%           2.000000         2.000000         14.000000         14.000000   \n",
       "max           7.000000         4.000000         26.000000         32.000000   \n",
       "\n",
       "       shots_on_target_home  shots_on_target_away  prediction_quantity  \n",
       "count             64.000000             64.000000         6.400000e+01  \n",
       "mean               4.312500              3.765625         4.036118e+05  \n",
       "std                2.617857              2.729860         2.001993e+05  \n",
       "min                0.000000              0.000000         1.304210e+05  \n",
       "25%                3.000000              2.000000         2.321788e+05  \n",
       "50%                4.000000              3.000000         3.639255e+05  \n",
       "75%                6.000000              5.000000         5.351200e+05  \n",
       "max               10.000000             12.000000         1.002332e+06  "
      ]
     },
     "execution_count": 5,
     "metadata": {},
     "output_type": "execute_result"
    }
   ],
   "source": [
    "df.describe()"
   ]
  },
  {
   "cell_type": "code",
   "execution_count": 8,
   "id": "e1c32eb2-f438-40d4-a65f-c98193353962",
   "metadata": {},
   "outputs": [
    {
     "data": {
      "text/plain": [
       "Index(['stage', 'date', 'pens', 'pens_home_score', 'pens_away_score',\n",
       "       'team_name_home', 'team_name_away', 'team_home_score',\n",
       "       'team_away_score', 'possession_home', 'possession_away',\n",
       "       'total_shots_home', 'total_shots_away', 'shots_on_target_home',\n",
       "       'shots_on_target_away', 'duels_won_home', 'duels_won_away',\n",
       "       'prediction_team_home_win', 'prediction_draw',\n",
       "       'prediction_team_away_win', 'prediction_quantity', 'location',\n",
       "       'events_list', 'lineup_home', 'lineup_away'],\n",
       "      dtype='object')"
      ]
     },
     "execution_count": 8,
     "metadata": {},
     "output_type": "execute_result"
    }
   ],
   "source": [
    "df.columns"
   ]
  },
  {
   "cell_type": "markdown",
   "id": "6882c07c-447a-4290-9c56-db770204ea2e",
   "metadata": {},
   "source": [
    "### Manipulating events_list, lineup_home and lineup_away columns into new columns"
   ]
  },
  {
   "cell_type": "code",
   "execution_count": 65,
   "id": "6af2f677-8603-468c-84a7-a2b4c5a223a2",
   "metadata": {},
   "outputs": [
    {
     "name": "stdout",
     "output_type": "stream",
     "text": [
      "{'player_name': ' Di María ', 'player_number': ' 11'}\n"
     ]
    }
   ],
   "source": [
    "array = [\n",
    "    {\"player_name\": \" Di María \", \"player_number\": \" 11\"},\n",
    "    {\"player_name\": \" Álvarez \", \"player_number\": \" 9\"},\n",
    "    {\"player_name\": \" Messi \", \"player_number\": \" 10\"},\n",
    "    {\"player_name\": \" Mac Allister \", \"player_number\": \" 20\"},\n",
    "    {\"player_name\": \" Fernández \", \"player_number\": \" 24\"},\n",
    "    {\"player_name\": \" De Paul \", \"player_number\": \" 7\"},\n",
    "    {\"player_name\": \" Tagliafico \", \"player_number\": \" 3\"},\n",
    "    {\"player_name\": \" Otamendi \", \"player_number\": \" 19\"},\n",
    "    {\"player_name\": \" Romero \", \"player_number\": \" 13\"},\n",
    "    {\"player_name\": \" Molina \", \"player_number\": \" 26\"},\n",
    "    {\"player_name\": \" Martínez \", \"player_number\": \" 23\"},\n",
    "]\n"
   ]
  },
  {
   "cell_type": "code",
   "execution_count": 58,
   "id": "12215b6b-522f-4fbc-8afa-6578173a72ba",
   "metadata": {},
   "outputs": [
    {
     "name": "stdout",
     "output_type": "stream",
     "text": [
      "Unexpected exception formatting exception. Falling back to standard exception\n"
     ]
    },
    {
     "name": "stderr",
     "output_type": "stream",
     "text": [
      "Traceback (most recent call last):\n",
      "  File \"C:\\Users\\caio_barros\\AppData\\Local\\Programs\\Python\\Python39\\lib\\site-packages\\IPython\\core\\interactiveshell.py\", line 3378, in run_code\n",
      "    exec(code_obj, self.user_global_ns, self.user_ns)\n",
      "  File \"C:\\Users\\caio_barros\\AppData\\Local\\Temp\\ipykernel_6648\\162740870.py\", line 4, in <module>\n",
      "    df['lineup_home'] = df['lineup_home'].apply(list_to_dict)\n",
      "  File \"C:\\Users\\caio_barros\\AppData\\Local\\Programs\\Python\\Python39\\lib\\site-packages\\pandas\\core\\series.py\", line 4433, in apply\n",
      "    return SeriesApply(self, func, convert_dtype, args, kwargs).apply()\n",
      "  File \"C:\\Users\\caio_barros\\AppData\\Local\\Programs\\Python\\Python39\\lib\\site-packages\\pandas\\core\\apply.py\", line 1088, in apply\n",
      "    return self.apply_standard()\n",
      "  File \"C:\\Users\\caio_barros\\AppData\\Local\\Programs\\Python\\Python39\\lib\\site-packages\\pandas\\core\\apply.py\", line 1143, in apply_standard\n",
      "    mapped = lib.map_infer(\n",
      "  File \"pandas\\_libs\\lib.pyx\", line 2870, in pandas._libs.lib.map_infer\n",
      "  File \"C:\\Users\\caio_barros\\AppData\\Local\\Temp\\ipykernel_6648\\162740870.py\", line 2, in list_to_dict\n",
      "    return dict(row)\n",
      "ValueError: dictionary update sequence element #0 has length 1; 2 is required\n",
      "\n",
      "During handling of the above exception, another exception occurred:\n",
      "\n",
      "Traceback (most recent call last):\n",
      "  File \"C:\\Users\\caio_barros\\AppData\\Local\\Programs\\Python\\Python39\\lib\\site-packages\\IPython\\core\\interactiveshell.py\", line 1997, in showtraceback\n",
      "    stb = self.InteractiveTB.structured_traceback(\n",
      "  File \"C:\\Users\\caio_barros\\AppData\\Local\\Programs\\Python\\Python39\\lib\\site-packages\\IPython\\core\\ultratb.py\", line 1112, in structured_traceback\n",
      "    return FormattedTB.structured_traceback(\n",
      "  File \"C:\\Users\\caio_barros\\AppData\\Local\\Programs\\Python\\Python39\\lib\\site-packages\\IPython\\core\\ultratb.py\", line 1006, in structured_traceback\n",
      "    return VerboseTB.structured_traceback(\n",
      "  File \"C:\\Users\\caio_barros\\AppData\\Local\\Programs\\Python\\Python39\\lib\\site-packages\\IPython\\core\\ultratb.py\", line 859, in structured_traceback\n",
      "    formatted_exception = self.format_exception_as_a_whole(etype, evalue, etb, number_of_lines_of_context,\n",
      "  File \"C:\\Users\\caio_barros\\AppData\\Local\\Programs\\Python\\Python39\\lib\\site-packages\\IPython\\core\\ultratb.py\", line 793, in format_exception_as_a_whole\n",
      "    self.get_records(etb, number_of_lines_of_context, tb_offset) if etb else []\n",
      "  File \"C:\\Users\\caio_barros\\AppData\\Local\\Programs\\Python\\Python39\\lib\\site-packages\\IPython\\core\\ultratb.py\", line 848, in get_records\n",
      "    return list(stack_data.FrameInfo.stack_data(etb, options=options))[tb_offset:]\n",
      "  File \"C:\\Users\\caio_barros\\AppData\\Local\\Programs\\Python\\Python39\\lib\\site-packages\\stack_data\\core.py\", line 597, in stack_data\n",
      "    yield from collapse_repeated(\n",
      "  File \"C:\\Users\\caio_barros\\AppData\\Local\\Programs\\Python\\Python39\\lib\\site-packages\\stack_data\\utils.py\", line 84, in collapse_repeated\n",
      "    yield from map(mapper, original_group)\n",
      "  File \"C:\\Users\\caio_barros\\AppData\\Local\\Programs\\Python\\Python39\\lib\\site-packages\\stack_data\\core.py\", line 587, in mapper\n",
      "    return cls(f, options)\n",
      "  File \"C:\\Users\\caio_barros\\AppData\\Local\\Programs\\Python\\Python39\\lib\\site-packages\\stack_data\\core.py\", line 551, in __init__\n",
      "    self.executing = Source.executing(frame_or_tb)\n",
      "  File \"C:\\Users\\caio_barros\\AppData\\Local\\Programs\\Python\\Python39\\lib\\site-packages\\executing\\executing.py\", line 323, in executing\n",
      "    source = cls.for_frame(frame)\n",
      "  File \"C:\\Users\\caio_barros\\AppData\\Local\\Programs\\Python\\Python39\\lib\\site-packages\\executing\\executing.py\", line 247, in for_frame\n",
      "    return cls.for_filename(frame.f_code.co_filename, frame.f_globals or {}, use_cache)\n",
      "  File \"C:\\Users\\caio_barros\\AppData\\Local\\Programs\\Python\\Python39\\lib\\site-packages\\executing\\executing.py\", line 275, in for_filename\n",
      "    return cls._for_filename_and_lines(filename, lines)\n",
      "  File \"C:\\Users\\caio_barros\\AppData\\Local\\Programs\\Python\\Python39\\lib\\site-packages\\executing\\executing.py\", line 285, in _for_filename_and_lines\n",
      "    result = source_cache[(filename, lines)] = cls(filename, lines)\n",
      "  File \"C:\\Users\\caio_barros\\AppData\\Local\\Programs\\Python\\Python39\\lib\\site-packages\\stack_data\\core.py\", line 97, in __init__\n",
      "    self.asttokens()\n",
      "  File \"C:\\Users\\caio_barros\\AppData\\Local\\Programs\\Python\\Python39\\lib\\site-packages\\executing\\executing.py\", line 387, in asttokens\n",
      "    return ASTTokens(\n",
      "  File \"C:\\Users\\caio_barros\\AppData\\Local\\Programs\\Python\\Python39\\lib\\site-packages\\asttokens\\asttokens.py\", line 61, in __init__\n",
      "    source_text = six.ensure_text(source_text)\n",
      "AttributeError: module 'six' has no attribute 'ensure_text'\n"
     ]
    }
   ],
   "source": [
    "def list_to_dict(row):\n",
    "    return dict(row)\n",
    "\n",
    "df['lineup_home'] = df['lineup_home'].apply(list_to_dict)"
   ]
  },
  {
   "cell_type": "code",
   "execution_count": 51,
   "id": "3ce76d1b-9938-4826-aa8a-47f15e9f8f5f",
   "metadata": {},
   "outputs": [
    {
     "name": "stdout",
     "output_type": "stream",
     "text": [
      "Unexpected exception formatting exception. Falling back to standard exception\n"
     ]
    },
    {
     "name": "stderr",
     "output_type": "stream",
     "text": [
      "Traceback (most recent call last):\n",
      "  File \"C:\\Users\\caio_barros\\AppData\\Local\\Programs\\Python\\Python39\\lib\\site-packages\\IPython\\core\\interactiveshell.py\", line 3378, in run_code\n",
      "    exec(code_obj, self.user_global_ns, self.user_ns)\n",
      "  File \"C:\\Users\\caio_barros\\AppData\\Local\\Temp\\ipykernel_6648\\1202079821.py\", line 3, in <module>\n",
      "    df = json_normalize(df, 'lineup_home', ['player_name', 'player_number'])\n",
      "  File \"C:\\Users\\caio_barros\\AppData\\Local\\Programs\\Python\\Python39\\lib\\site-packages\\pandas\\util\\_decorators.py\", line 59, in wrapper\n",
      "    return alternative(*args, **kwargs)\n",
      "  File \"C:\\Users\\caio_barros\\AppData\\Local\\Programs\\Python\\Python39\\lib\\site-packages\\pandas\\io\\json\\_normalize.py\", line 515, in _json_normalize\n",
      "    _recursive_extract(data, record_path, {}, level=0)\n",
      "  File \"C:\\Users\\caio_barros\\AppData\\Local\\Programs\\Python\\Python39\\lib\\site-packages\\pandas\\io\\json\\_normalize.py\", line 497, in _recursive_extract\n",
      "    recs = _pull_records(obj, path[0])\n",
      "  File \"C:\\Users\\caio_barros\\AppData\\Local\\Programs\\Python\\Python39\\lib\\site-packages\\pandas\\io\\json\\_normalize.py\", line 419, in _pull_records\n",
      "    result = _pull_field(js, spec, extract_record=True)\n",
      "  File \"C:\\Users\\caio_barros\\AppData\\Local\\Programs\\Python\\Python39\\lib\\site-packages\\pandas\\io\\json\\_normalize.py\", line 396, in _pull_field\n",
      "    result = result[spec]\n",
      "TypeError: string indices must be integers\n",
      "\n",
      "During handling of the above exception, another exception occurred:\n",
      "\n",
      "Traceback (most recent call last):\n",
      "  File \"C:\\Users\\caio_barros\\AppData\\Local\\Programs\\Python\\Python39\\lib\\site-packages\\IPython\\core\\interactiveshell.py\", line 1997, in showtraceback\n",
      "    stb = self.InteractiveTB.structured_traceback(\n",
      "  File \"C:\\Users\\caio_barros\\AppData\\Local\\Programs\\Python\\Python39\\lib\\site-packages\\IPython\\core\\ultratb.py\", line 1112, in structured_traceback\n",
      "    return FormattedTB.structured_traceback(\n",
      "  File \"C:\\Users\\caio_barros\\AppData\\Local\\Programs\\Python\\Python39\\lib\\site-packages\\IPython\\core\\ultratb.py\", line 1006, in structured_traceback\n",
      "    return VerboseTB.structured_traceback(\n",
      "  File \"C:\\Users\\caio_barros\\AppData\\Local\\Programs\\Python\\Python39\\lib\\site-packages\\IPython\\core\\ultratb.py\", line 859, in structured_traceback\n",
      "    formatted_exception = self.format_exception_as_a_whole(etype, evalue, etb, number_of_lines_of_context,\n",
      "  File \"C:\\Users\\caio_barros\\AppData\\Local\\Programs\\Python\\Python39\\lib\\site-packages\\IPython\\core\\ultratb.py\", line 793, in format_exception_as_a_whole\n",
      "    self.get_records(etb, number_of_lines_of_context, tb_offset) if etb else []\n",
      "  File \"C:\\Users\\caio_barros\\AppData\\Local\\Programs\\Python\\Python39\\lib\\site-packages\\IPython\\core\\ultratb.py\", line 848, in get_records\n",
      "    return list(stack_data.FrameInfo.stack_data(etb, options=options))[tb_offset:]\n",
      "  File \"C:\\Users\\caio_barros\\AppData\\Local\\Programs\\Python\\Python39\\lib\\site-packages\\stack_data\\core.py\", line 597, in stack_data\n",
      "    yield from collapse_repeated(\n",
      "  File \"C:\\Users\\caio_barros\\AppData\\Local\\Programs\\Python\\Python39\\lib\\site-packages\\stack_data\\utils.py\", line 84, in collapse_repeated\n",
      "    yield from map(mapper, original_group)\n",
      "  File \"C:\\Users\\caio_barros\\AppData\\Local\\Programs\\Python\\Python39\\lib\\site-packages\\stack_data\\core.py\", line 587, in mapper\n",
      "    return cls(f, options)\n",
      "  File \"C:\\Users\\caio_barros\\AppData\\Local\\Programs\\Python\\Python39\\lib\\site-packages\\stack_data\\core.py\", line 551, in __init__\n",
      "    self.executing = Source.executing(frame_or_tb)\n",
      "  File \"C:\\Users\\caio_barros\\AppData\\Local\\Programs\\Python\\Python39\\lib\\site-packages\\executing\\executing.py\", line 323, in executing\n",
      "    source = cls.for_frame(frame)\n",
      "  File \"C:\\Users\\caio_barros\\AppData\\Local\\Programs\\Python\\Python39\\lib\\site-packages\\executing\\executing.py\", line 247, in for_frame\n",
      "    return cls.for_filename(frame.f_code.co_filename, frame.f_globals or {}, use_cache)\n",
      "  File \"C:\\Users\\caio_barros\\AppData\\Local\\Programs\\Python\\Python39\\lib\\site-packages\\executing\\executing.py\", line 275, in for_filename\n",
      "    return cls._for_filename_and_lines(filename, lines)\n",
      "  File \"C:\\Users\\caio_barros\\AppData\\Local\\Programs\\Python\\Python39\\lib\\site-packages\\executing\\executing.py\", line 285, in _for_filename_and_lines\n",
      "    result = source_cache[(filename, lines)] = cls(filename, lines)\n",
      "  File \"C:\\Users\\caio_barros\\AppData\\Local\\Programs\\Python\\Python39\\lib\\site-packages\\stack_data\\core.py\", line 97, in __init__\n",
      "    self.asttokens()\n",
      "  File \"C:\\Users\\caio_barros\\AppData\\Local\\Programs\\Python\\Python39\\lib\\site-packages\\executing\\executing.py\", line 387, in asttokens\n",
      "    return ASTTokens(\n",
      "  File \"C:\\Users\\caio_barros\\AppData\\Local\\Programs\\Python\\Python39\\lib\\site-packages\\asttokens\\asttokens.py\", line 61, in __init__\n",
      "    source_text = six.ensure_text(source_text)\n",
      "AttributeError: module 'six' has no attribute 'ensure_text'\n"
     ]
    }
   ],
   "source": [
    "from pandas.io.json import json_normalize\n",
    "\n",
    "df = json_normalize(df, 'lineup_home', ['player_name', 'player_number'])"
   ]
  }
 ],
 "metadata": {
  "kernelspec": {
   "display_name": "Python 3 (ipykernel)",
   "language": "python",
   "name": "python3"
  },
  "language_info": {
   "codemirror_mode": {
    "name": "ipython",
    "version": 3
   },
   "file_extension": ".py",
   "mimetype": "text/x-python",
   "name": "python",
   "nbconvert_exporter": "python",
   "pygments_lexer": "ipython3",
   "version": "3.9.13"
  }
 },
 "nbformat": 4,
 "nbformat_minor": 5
}
