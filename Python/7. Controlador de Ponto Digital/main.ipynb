{
 "cells": [
  {
   "cell_type": "code",
   "execution_count": 1,
   "metadata": {},
   "outputs": [],
   "source": [
    "from util import RegistradorPonto\n",
    "from datetime import datetime"
   ]
  },
  {
   "cell_type": "code",
   "execution_count": 2,
   "metadata": {},
   "outputs": [],
   "source": [
    "registrador = RegistradorPonto()"
   ]
  },
  {
   "cell_type": "code",
   "execution_count": 3,
   "metadata": {},
   "outputs": [
    {
     "name": "stdout",
     "output_type": "stream",
     "text": [
      "Ponto de entrada registrado às 08:28:00\n"
     ]
    }
   ],
   "source": [
    "registrador.registrar_ponto('entrada', datetime(2024, 1, 3, 8, 28, 0))"
   ]
  },
  {
   "cell_type": "code",
   "execution_count": 4,
   "metadata": {},
   "outputs": [
    {
     "name": "stdout",
     "output_type": "stream",
     "text": [
      "Ponto de saida_almoco registrado às 12:35:00\n",
      "Horas entre entrada e saida_almoco: 4.12 horas\n",
      "Horas faltantes para completar o dia: 3.88 horas\n"
     ]
    }
   ],
   "source": [
    "registrador.registrar_ponto('saida_almoco', datetime(2024, 1, 3, 12, 35, 0))\n",
    "registrador.calcular_horas_entre_pontos('entrada', 'saida_almoco')"
   ]
  },
  {
   "cell_type": "code",
   "execution_count": 7,
   "metadata": {},
   "outputs": [
    {
     "name": "stdout",
     "output_type": "stream",
     "text": [
      "Ponto de volta_almoco registrado às 13:35:00\n",
      "Horas entre entrada e volta_almoco: 5.12 horas\n",
      "Horas faltantes para completar o dia: 0.00 horas\n",
      "Horas restantes: 8.00 horas\n",
      "Estimativa do horário para completar as 8 horas: 18:45:54\n"
     ]
    }
   ],
   "source": [
    "registrador.registrar_ponto('volta_almoco', datetime(2024, 1, 3, 13, 35, 0))\n",
    "registrador.calcular_horas_entre_pontos('entrada', 'volta_almoco')\n",
    "registrador.calcular_horas_restantes()"
   ]
  },
  {
   "cell_type": "code",
   "execution_count": null,
   "metadata": {},
   "outputs": [],
   "source": [
    "registrador.registrar_ponto('volta_almoco', datetime(2024, 1, 3, 13, 35, 0))"
   ]
  }
 ],
 "metadata": {
  "kernelspec": {
   "display_name": "Python 3 (ipykernel)",
   "language": "python",
   "name": "python3"
  },
  "language_info": {
   "codemirror_mode": {
    "name": "ipython",
    "version": 3
   },
   "file_extension": ".py",
   "mimetype": "text/x-python",
   "name": "python",
   "nbconvert_exporter": "python",
   "pygments_lexer": "ipython3",
   "version": "3.10.9"
  },
  "vscode": {
   "interpreter": {
    "hash": "c261aea317cc0286b3b3261fbba9abdec21eaa57589985bb7a274bf54d6cc0a7"
   }
  }
 },
 "nbformat": 4,
 "nbformat_minor": 4
}
